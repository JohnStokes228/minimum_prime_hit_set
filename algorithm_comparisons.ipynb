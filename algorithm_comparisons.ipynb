{
 "cells": [
  {
   "cell_type": "markdown",
   "metadata": {},
   "source": [
    "# MinPrimeHitSet Experiments\n",
    "\n",
    "This notebook will include the outcome of a number of experiments preformed utilising the methods I have conjured up elsewhere. It might stray into unprofessional territory in the commentary at times so brace yourself for that I guess ey lads ;)\n",
    "\n",
    "some general bits I hope to tick off are:\n",
    "\n",
    "- test on small number of integers within a small range\n",
    "- test on small number of integers within a big range\n",
    "- test on large number of integers in a small range\n",
    "- test on large number of integers in a big range\n",
    "- test on some number of  explicitly non-prime integers\n",
    "- test on some input data where the true solution does not include the number 2\n",
    "- test where the line between the various types of input data might actually lie\n",
    "\n",
    "and maybe some more Ill add to these over time. I'm hoping that I will be able to deduce the best algorithms for each scenario and compare utility using this method. Going in my biggest interest is with comparison of **Grdy** to **Xstv** but Theres some amount of intrguige to how the remaining algorithms will preform too."
   ]
  },
  {
   "cell_type": "code",
   "execution_count": 1,
   "metadata": {},
   "outputs": [],
   "source": [
    "import pandas as pd\n",
    "import matplotlib.pyplot as plt\n",
    "import seaborn as sns\n",
    "import random\n",
    "from timeit import default_timer as timer\n",
    "from hit_set_algorithms import minimum_prime_hitting_set  # this is the single call used to run all the available algs\n",
    "\n",
    "%matplotlib inline"
   ]
  },
  {
   "cell_type": "markdown",
   "metadata": {},
   "source": [
    "# Initial preformance test - small number of integers in a small range\n",
    "\n",
    "to start with we'll compare run times and accuracy for running the algorithm on a fairly small number of integers. these ints will be of size < 1000 to try to keep the number of possible primes in play minimal, but we'll still need enough variety to require the algorithms at all (i.e. it needs to get at the self solve portion of the algorithms in order to test the unique endings)\n",
    "\n",
    "to start with I'll set up a very basic test where 20 random ints will go in a single time to every algorithm. I hope this will help set expectations of preformance for each, as well as prove to me that they all work as intended lol."
   ]
  },
  {
   "cell_type": "code",
   "execution_count": 2,
   "metadata": {},
   "outputs": [
    {
     "data": {
      "text/plain": [
       "[541,\n",
       " 365,\n",
       " 599,\n",
       " 28,\n",
       " 863,\n",
       " 234,\n",
       " 920,\n",
       " 30,\n",
       " 903,\n",
       " 398,\n",
       " 373,\n",
       " 977,\n",
       " 971,\n",
       " 66,\n",
       " 434,\n",
       " 978,\n",
       " 313,\n",
       " 349,\n",
       " 96,\n",
       " 598]"
      ]
     },
     "execution_count": 2,
     "metadata": {},
     "output_type": "execute_result"
    }
   ],
   "source": [
    "random.seed(34)  # ensure reproducibility of result\n",
    "\n",
    "input_list = random.sample(range(0, 1000), 20)\n",
    "input_list"
   ]
  },
  {
   "cell_type": "markdown",
   "metadata": {},
   "source": [
    "looks reasonable to my untrained eyes, though i think a fair few of these ints are prime / primes^{n} already. Next, lets test each of the algorithms on them and see what we can see, without getting too judgey if we can avoid it."
   ]
  },
  {
   "cell_type": "code",
   "execution_count": 3,
   "metadata": {},
   "outputs": [
    {
     "name": "stdout",
     "output_type": "stream",
     "text": [
      "\n",
      "attempting to solve problem using \u001b[1mself-solve\u001b[0;0m algorithm\n",
      "\n",
      "decomposing input integers...\n",
      "\n",
      "checking if problem solved without need for chosen algorithm...\n",
      "\n",
      "\n",
      "---| Running Self Solving Minimum Prime Hitting Set Algorithm |---\n",
      "\n",
      "\tSelf Solve has generated the partial solution = [313, 349, 373, 541, 599, 863, 971, 977]\n",
      "\n",
      "\tself-solve algorithm ran in 0.0009870000000002932\n",
      "\tsolution formed is of length 8\n",
      "\n",
      "------------------------------------------------------------------------\n",
      "\n",
      "attempting to solve problem using \u001b[1mrandom\u001b[0;0m algorithm\n",
      "\n",
      "decomposing input integers...\n",
      "\n",
      "checking if problem solved without need for chosen algorithm...\n",
      "\n",
      "\n",
      "---| Running Chaotic Random Minimum Prime Hitting Set Algorithm |---\n",
      "\n",
      "\tMinHitSet complete! solution = [2, 3, 5, 13, 313, 349, 373, 541, 599, 863, 971, 977]\n",
      "\n",
      "\trandom algorithm ran in 0.0011223000000004646\n",
      "\tsolution formed is of length 12\n",
      "\n",
      "------------------------------------------------------------------------\n",
      "\n",
      "attempting to solve problem using \u001b[1mexhaustive\u001b[0;0m algorithm\n",
      "\n",
      "decomposing input integers...\n",
      "\n",
      "checking if problem solved without need for chosen algorithm...\n",
      "\n",
      "\n",
      "---| Running Exhaustive Minimum Prime Hitting Set Algorithm |---\n",
      "\n",
      "\tMinHitSet complete! solution = [2, 3, 5, 313, 349, 373, 541, 599, 863, 971, 977]\n",
      "\n",
      "\texhaustive algorithm ran in 0.003008899999999315\n",
      "\tsolution formed is of length 11\n",
      "\n",
      "------------------------------------------------------------------------\n",
      "\n",
      "attempting to solve problem using \u001b[1mgreedy\u001b[0;0m algorithm\n",
      "\n",
      "decomposing input integers...\n",
      "\n",
      "checking if problem solved without need for chosen algorithm...\n",
      "\n",
      "\n",
      "---| Running Greedy Minimum Prime Hitting Set Heuristic |---\n",
      "\n",
      "\tMinHitSet complete! solution = [2, 3, 5, 313, 349, 373, 541, 599, 863, 971, 977]\n",
      "\n",
      "\tgreedy algorithm ran in 0.0018700000000002603\n",
      "\tsolution formed is of length 11\n",
      "\n",
      "------------------------------------------------------------------------\n",
      "\n",
      "attempting to solve problem using \u001b[1mstochastic\u001b[0;0m algorithm\n",
      "\n",
      "decomposing input integers...\n",
      "\n",
      "checking if problem solved without need for chosen algorithm...\n",
      "\n",
      "\n",
      "---| Running Stochastic Descent Minimum Prime Hitting Set Algorithm |---\n",
      "\n",
      "\tMinHitSet complete! solution = [2, 3, 5, 13, 23, 313, 349, 373, 541, 599, 863, 971, 977]\n",
      "\n",
      "\tstochastic algorithm ran in 0.044394600000000395\n",
      "\tsolution formed is of length 13\n",
      "\n",
      "------------------------------------------------------------------------\n",
      "\n",
      "attempting to solve problem using \u001b[1mmultiple-stochastic\u001b[0;0m algorithm\n",
      "\n",
      "decomposing input integers...\n",
      "\n",
      "checking if problem solved without need for chosen algorithm...\n",
      "\n",
      "\n",
      "---| Running Multiple Stochastic Descent Minimum Prime Hitting Set Algorithm |---\n",
      "\n",
      "\tMinHitSet complete! best solution = [2, 5, 7, 313, 349, 373, 541, 599, 863, 971, 977]\n",
      "\n",
      "\tmultiple-stochastic algorithm ran in 0.20733770000000007\n",
      "\tsolution formed is of length 11\n",
      "\n",
      "------------------------------------------------------------------------\n"
     ]
    }
   ],
   "source": [
    "algs_to_run = ['self-solve', 'random', 'exhaustive', 'greedy', 'stochastic', 'multiple-stochastic']\n",
    "sols = {}\n",
    "\n",
    "for alg in algs_to_run:\n",
    "    print('\\nattempting to solve problem using \\033[1m{}\\033[0;0m algorithm'.format(alg))\n",
    "    \n",
    "    # the weird codes in the text make the alg name print bold to help me skim read. no idea what they actually mean tho :O\n",
    "    \n",
    "    start = timer()\n",
    "    output_vals = minimum_prime_hitting_set(input_list, alg)\n",
    "    end = timer()\n",
    "\n",
    "    print('\\n\\t{} algorithm ran in {}'.format(alg, str(end - start)))\n",
    "    print('\\tsolution formed is of length {}'.format(len(output_vals)))\n",
    "    \n",
    "    sols[alg] = output_vals\n",
    "    \n",
    "    print('\\n------------------------------------------------------------------------')"
   ]
  },
  {
   "cell_type": "markdown",
   "metadata": {},
   "source": [
    "a successful test! - worth noting that self-solve component of the runs already discovered 8 of the 11 integers contained in the solution so minimal actual use for each algorithm to solve. whilst its obviously dumb to start judging algorithm quality based on this one individual test I think the general assumptions i've had about each going in have been well exemplified by this (i.e. run time of multiple stochastic being longest by far, random and individual stochastic being least accurate)\n",
    "\n",
    "Also note that multiple stochastic has managed to find a solution which matches the quality of exhaustive but that includes different primes. "
   ]
  },
  {
   "cell_type": "code",
   "execution_count": null,
   "metadata": {},
   "outputs": [],
   "source": []
  }
 ],
 "metadata": {
  "kernelspec": {
   "display_name": "Python 3",
   "language": "python",
   "name": "python3"
  },
  "language_info": {
   "codemirror_mode": {
    "name": "ipython",
    "version": 3
   },
   "file_extension": ".py",
   "mimetype": "text/x-python",
   "name": "python",
   "nbconvert_exporter": "python",
   "pygments_lexer": "ipython3",
   "version": "3.7.7"
  },
  "toc": {
   "base_numbering": 1,
   "nav_menu": {
    "height": "303px",
    "width": "497px"
   },
   "number_sections": true,
   "sideBar": true,
   "skip_h1_title": false,
   "title_cell": "Table of Contents",
   "title_sidebar": "Contents",
   "toc_cell": false,
   "toc_position": {},
   "toc_section_display": true,
   "toc_window_display": false
  }
 },
 "nbformat": 4,
 "nbformat_minor": 4
}
