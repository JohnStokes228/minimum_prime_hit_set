{
 "cells": [
  {
   "cell_type": "markdown",
   "metadata": {},
   "source": [
    "# MinPrimeHitSet Experiments\n",
    "\n",
    "This notebook will include the outcome of a number of experiments preformed utilising the methods I have conjured up elsewhere. It might stray into unprofessional territory in the commentary at times so brace yourself for that I guess ey lads ;)\n",
    "\n",
    "some general bits I hope to tick off are:\n",
    "\n",
    "- test on small number of integers within a small range\n",
    "- test on small number of integers within a big range\n",
    "- test on large number of integers in a small range\n",
    "- test on large number of integers in a big range\n",
    "- test on some number of  explicitly non-prime integers\n",
    "- test on some input data where the true solution does not include the number 2\n",
    "- test where the line between the various types of input data might actually lie\n",
    "\n",
    "and maybe some more Ill add to these over time. I'm hoping that I will be able to deduce the best algorithms for each scenario and compare utility using this method. Going in my biggest interest is with comparison of **Grdy** to **Xstv** but Theres some amount of intrguige to how the remaining algorithms will preform too."
   ]
  },
  {
   "cell_type": "code",
   "execution_count": 1,
   "metadata": {},
   "outputs": [
    {
     "name": "stdout",
     "output_type": "stream",
     "text": [
      "\n",
      "decomposing input integers...\n",
      "\n",
      "checking if problem solved without need for chosen algorithm...\n",
      "\n",
      "\n",
      "---| Running Genetic Minimum Prime Hitting Set Algorithm |---\n",
      "\n"
     ]
    },
    {
     "ename": "IndexError",
     "evalue": "Cannot choose from an empty sequence",
     "output_type": "error",
     "traceback": [
      "\u001b[1;31m---------------------------------------------------------------------------\u001b[0m",
      "\u001b[1;31mIndexError\u001b[0m                                Traceback (most recent call last)",
      "\u001b[1;32m<ipython-input-1-53efc4847761>\u001b[0m in \u001b[0;36m<module>\u001b[1;34m\u001b[0m\n\u001b[0;32m      4\u001b[0m \u001b[1;32mimport\u001b[0m \u001b[0mrandom\u001b[0m\u001b[1;33m\u001b[0m\u001b[1;33m\u001b[0m\u001b[0m\n\u001b[0;32m      5\u001b[0m \u001b[1;32mfrom\u001b[0m \u001b[0mtimeit\u001b[0m \u001b[1;32mimport\u001b[0m \u001b[0mdefault_timer\u001b[0m \u001b[1;32mas\u001b[0m \u001b[0mtimer\u001b[0m\u001b[1;33m\u001b[0m\u001b[1;33m\u001b[0m\u001b[0m\n\u001b[1;32m----> 6\u001b[1;33m \u001b[1;32mfrom\u001b[0m \u001b[0mhit_set_algorithms\u001b[0m \u001b[1;32mimport\u001b[0m \u001b[0mminimum_prime_hitting_set\u001b[0m  \u001b[1;31m# this is the single call used to run all the available algs\u001b[0m\u001b[1;33m\u001b[0m\u001b[1;33m\u001b[0m\u001b[0m\n\u001b[0m\u001b[0;32m      7\u001b[0m \u001b[1;33m\u001b[0m\u001b[0m\n\u001b[0;32m      8\u001b[0m \u001b[0mget_ipython\u001b[0m\u001b[1;33m(\u001b[0m\u001b[1;33m)\u001b[0m\u001b[1;33m.\u001b[0m\u001b[0mrun_line_magic\u001b[0m\u001b[1;33m(\u001b[0m\u001b[1;34m'matplotlib'\u001b[0m\u001b[1;33m,\u001b[0m \u001b[1;34m'inline'\u001b[0m\u001b[1;33m)\u001b[0m\u001b[1;33m\u001b[0m\u001b[1;33m\u001b[0m\u001b[0m\n",
      "\u001b[1;32m~\\minimum_prime_hit_set\\hit_set_algorithms.py\u001b[0m in \u001b[0;36m<module>\u001b[1;34m\u001b[0m\n\u001b[0;32m    536\u001b[0m \u001b[1;33m\u001b[0m\u001b[0m\n\u001b[0;32m    537\u001b[0m \u001b[0minput_list\u001b[0m \u001b[1;33m=\u001b[0m \u001b[1;33m[\u001b[0m\u001b[1;36m541\u001b[0m\u001b[1;33m,\u001b[0m \u001b[1;36m365\u001b[0m\u001b[1;33m,\u001b[0m \u001b[1;36m599\u001b[0m\u001b[1;33m,\u001b[0m \u001b[1;36m28\u001b[0m\u001b[1;33m,\u001b[0m \u001b[1;36m863\u001b[0m\u001b[1;33m,\u001b[0m \u001b[1;36m234\u001b[0m\u001b[1;33m,\u001b[0m \u001b[1;36m920\u001b[0m\u001b[1;33m,\u001b[0m \u001b[1;36m30\u001b[0m\u001b[1;33m,\u001b[0m \u001b[1;36m903\u001b[0m\u001b[1;33m,\u001b[0m \u001b[1;36m398\u001b[0m\u001b[1;33m,\u001b[0m \u001b[1;36m373\u001b[0m\u001b[1;33m,\u001b[0m \u001b[1;36m977\u001b[0m\u001b[1;33m,\u001b[0m \u001b[1;36m971\u001b[0m\u001b[1;33m,\u001b[0m \u001b[1;36m66\u001b[0m\u001b[1;33m,\u001b[0m \u001b[1;36m434\u001b[0m\u001b[1;33m,\u001b[0m \u001b[1;36m978\u001b[0m\u001b[1;33m,\u001b[0m \u001b[1;36m313\u001b[0m\u001b[1;33m,\u001b[0m \u001b[1;36m349\u001b[0m\u001b[1;33m,\u001b[0m \u001b[1;36m96\u001b[0m\u001b[1;33m,\u001b[0m \u001b[1;36m598\u001b[0m\u001b[1;33m]\u001b[0m\u001b[1;33m\u001b[0m\u001b[1;33m\u001b[0m\u001b[0m\n\u001b[1;32m--> 538\u001b[1;33m \u001b[0mminimum_prime_hitting_set\u001b[0m\u001b[1;33m(\u001b[0m\u001b[0minput_list\u001b[0m\u001b[1;33m,\u001b[0m \u001b[1;34m'genetic'\u001b[0m\u001b[1;33m)\u001b[0m\u001b[1;33m\u001b[0m\u001b[1;33m\u001b[0m\u001b[0m\n\u001b[0m",
      "\u001b[1;32m~\\minimum_prime_hit_set\\hit_set_algorithms.py\u001b[0m in \u001b[0;36mminimum_prime_hitting_set\u001b[1;34m(int_list, algorithm, text)\u001b[0m\n\u001b[0;32m    528\u001b[0m     \u001b[1;32melse\u001b[0m\u001b[1;33m:\u001b[0m\u001b[1;33m\u001b[0m\u001b[1;33m\u001b[0m\u001b[0m\n\u001b[0;32m    529\u001b[0m         \u001b[1;32mtry\u001b[0m\u001b[1;33m:\u001b[0m\u001b[1;33m\u001b[0m\u001b[1;33m\u001b[0m\u001b[0m\n\u001b[1;32m--> 530\u001b[1;33m             \u001b[0msols\u001b[0m \u001b[1;33m=\u001b[0m \u001b[0mget_chosen_algorithm\u001b[0m\u001b[1;33m(\u001b[0m\u001b[0malgorithm\u001b[0m\u001b[1;33m)\u001b[0m\u001b[1;33m(\u001b[0m\u001b[0mremaining\u001b[0m\u001b[1;33m,\u001b[0m \u001b[0msols\u001b[0m\u001b[1;33m,\u001b[0m \u001b[0mtext\u001b[0m\u001b[1;33m)\u001b[0m\u001b[1;33m\u001b[0m\u001b[1;33m\u001b[0m\u001b[0m\n\u001b[0m\u001b[0;32m    531\u001b[0m             \u001b[1;32mreturn\u001b[0m \u001b[0msols\u001b[0m\u001b[1;33m\u001b[0m\u001b[1;33m\u001b[0m\u001b[0m\n\u001b[0;32m    532\u001b[0m         \u001b[1;32mexcept\u001b[0m \u001b[0mTypeError\u001b[0m\u001b[1;33m:\u001b[0m\u001b[1;33m\u001b[0m\u001b[1;33m\u001b[0m\u001b[0m\n",
      "\u001b[1;32m~\\minimum_prime_hit_set\\hit_set_algorithms.py\u001b[0m in \u001b[0;36mgenetic_hitting_set\u001b[1;34m(remaining, sols, text)\u001b[0m\n\u001b[0;32m    439\u001b[0m         \u001b[0mparents\u001b[0m \u001b[1;33m=\u001b[0m \u001b[0mget_parents\u001b[0m\u001b[1;33m(\u001b[0m\u001b[0minitial_population\u001b[0m\u001b[1;33m)\u001b[0m\u001b[1;33m\u001b[0m\u001b[1;33m\u001b[0m\u001b[0m\n\u001b[0;32m    440\u001b[0m         \u001b[0mchildren\u001b[0m \u001b[1;33m=\u001b[0m \u001b[0mbreed_sols\u001b[0m\u001b[1;33m(\u001b[0m\u001b[0mparents\u001b[0m\u001b[1;33m)\u001b[0m\u001b[1;33m\u001b[0m\u001b[1;33m\u001b[0m\u001b[0m\n\u001b[1;32m--> 441\u001b[1;33m         \u001b[0mmutants\u001b[0m \u001b[1;33m=\u001b[0m \u001b[0mmutate_sols\u001b[0m\u001b[1;33m(\u001b[0m\u001b[0mrandom\u001b[0m\u001b[1;33m.\u001b[0m\u001b[0mchoices\u001b[0m\u001b[1;33m(\u001b[0m\u001b[0minitial_population\u001b[0m \u001b[1;33m+\u001b[0m \u001b[0mchildren\u001b[0m\u001b[1;33m,\u001b[0m \u001b[0mk\u001b[0m\u001b[1;33m=\u001b[0m\u001b[1;36m20\u001b[0m\u001b[1;33m)\u001b[0m\u001b[1;33m)\u001b[0m\u001b[1;33m\u001b[0m\u001b[1;33m\u001b[0m\u001b[0m\n\u001b[0m\u001b[0;32m    442\u001b[0m \u001b[1;33m\u001b[0m\u001b[0m\n\u001b[0;32m    443\u001b[0m         \u001b[0minitial_population\u001b[0m \u001b[1;33m+=\u001b[0m \u001b[0mchildren\u001b[0m \u001b[1;33m+\u001b[0m \u001b[0mmutants\u001b[0m\u001b[1;33m\u001b[0m\u001b[1;33m\u001b[0m\u001b[0m\n",
      "\u001b[1;32m~\\minimum_prime_hit_set\\hit_set_algorithms.py\u001b[0m in \u001b[0;36mmutate_sols\u001b[1;34m(mutation_candidates)\u001b[0m\n\u001b[0;32m    402\u001b[0m     \"\"\"\n\u001b[0;32m    403\u001b[0m     \u001b[1;32mfor\u001b[0m \u001b[0mcandidate\u001b[0m \u001b[1;32min\u001b[0m \u001b[0mmutation_candidates\u001b[0m\u001b[1;33m:\u001b[0m\u001b[1;33m\u001b[0m\u001b[1;33m\u001b[0m\u001b[0m\n\u001b[1;32m--> 404\u001b[1;33m         \u001b[0mcandidate\u001b[0m\u001b[1;33m.\u001b[0m\u001b[0mremove\u001b[0m\u001b[1;33m(\u001b[0m\u001b[0mrandom\u001b[0m\u001b[1;33m.\u001b[0m\u001b[0mchoice\u001b[0m\u001b[1;33m(\u001b[0m\u001b[0mcandidate\u001b[0m\u001b[1;33m)\u001b[0m\u001b[1;33m)\u001b[0m\u001b[1;33m\u001b[0m\u001b[1;33m\u001b[0m\u001b[0m\n\u001b[0m\u001b[0;32m    405\u001b[0m \u001b[1;33m\u001b[0m\u001b[0m\n\u001b[0;32m    406\u001b[0m     \u001b[1;32mreturn\u001b[0m \u001b[0mmutation_candidates\u001b[0m\u001b[1;33m\u001b[0m\u001b[1;33m\u001b[0m\u001b[0m\n",
      "\u001b[1;32m~\\Anaconda3\\lib\\random.py\u001b[0m in \u001b[0;36mchoice\u001b[1;34m(self, seq)\u001b[0m\n\u001b[0;32m    259\u001b[0m             \u001b[0mi\u001b[0m \u001b[1;33m=\u001b[0m \u001b[0mself\u001b[0m\u001b[1;33m.\u001b[0m\u001b[0m_randbelow\u001b[0m\u001b[1;33m(\u001b[0m\u001b[0mlen\u001b[0m\u001b[1;33m(\u001b[0m\u001b[0mseq\u001b[0m\u001b[1;33m)\u001b[0m\u001b[1;33m)\u001b[0m\u001b[1;33m\u001b[0m\u001b[1;33m\u001b[0m\u001b[0m\n\u001b[0;32m    260\u001b[0m         \u001b[1;32mexcept\u001b[0m \u001b[0mValueError\u001b[0m\u001b[1;33m:\u001b[0m\u001b[1;33m\u001b[0m\u001b[1;33m\u001b[0m\u001b[0m\n\u001b[1;32m--> 261\u001b[1;33m             \u001b[1;32mraise\u001b[0m \u001b[0mIndexError\u001b[0m\u001b[1;33m(\u001b[0m\u001b[1;34m'Cannot choose from an empty sequence'\u001b[0m\u001b[1;33m)\u001b[0m \u001b[1;32mfrom\u001b[0m \u001b[1;32mNone\u001b[0m\u001b[1;33m\u001b[0m\u001b[1;33m\u001b[0m\u001b[0m\n\u001b[0m\u001b[0;32m    262\u001b[0m         \u001b[1;32mreturn\u001b[0m \u001b[0mseq\u001b[0m\u001b[1;33m[\u001b[0m\u001b[0mi\u001b[0m\u001b[1;33m]\u001b[0m\u001b[1;33m\u001b[0m\u001b[1;33m\u001b[0m\u001b[0m\n\u001b[0;32m    263\u001b[0m \u001b[1;33m\u001b[0m\u001b[0m\n",
      "\u001b[1;31mIndexError\u001b[0m: Cannot choose from an empty sequence"
     ]
    }
   ],
   "source": [
    "import pandas as pd\n",
    "import matplotlib.pyplot as plt\n",
    "import seaborn as sns\n",
    "import random\n",
    "from timeit import default_timer as timer\n",
    "from hit_set_algorithms import minimum_prime_hitting_set  # this is the single call used to run all the available algs\n",
    "\n",
    "%matplotlib inline"
   ]
  },
  {
   "cell_type": "markdown",
   "metadata": {},
   "source": [
    "# Initial preformance test - small number of integers in a small range\n",
    "\n",
    "to start with we'll compare run times and accuracy for running the algorithm on a fairly small number of integers. these ints will be of size < 1000 to try to keep the number of possible primes in play minimal, but we'll still need enough variety to require the algorithms at all (i.e. it needs to get at the self solve portion of the algorithms in order to test the unique endings)\n",
    "\n",
    "to start with I'll set up a very basic test where 20 random ints will go in a single time to every algorithm. I hope this will help set expectations of preformance for each, as well as prove to me that they all work as intended lol."
   ]
  },
  {
   "cell_type": "code",
   "execution_count": 2,
   "metadata": {},
   "outputs": [
    {
     "data": {
      "text/plain": [
       "[541,\n",
       " 365,\n",
       " 599,\n",
       " 28,\n",
       " 863,\n",
       " 234,\n",
       " 920,\n",
       " 30,\n",
       " 903,\n",
       " 398,\n",
       " 373,\n",
       " 977,\n",
       " 971,\n",
       " 66,\n",
       " 434,\n",
       " 978,\n",
       " 313,\n",
       " 349,\n",
       " 96,\n",
       " 598]"
      ]
     },
     "execution_count": 2,
     "metadata": {},
     "output_type": "execute_result"
    }
   ],
   "source": [
    "random.seed(34)  # ensure reproducibility of result\n",
    "\n",
    "input_list = random.sample(range(0, 1000), 20)\n",
    "input_list"
   ]
  },
  {
   "cell_type": "markdown",
   "metadata": {},
   "source": [
    "looks reasonable to my untrained eyes, though i think a fair few of these ints are prime / primes^{n} already. Next, lets test each of the algorithms on them and see what we can see, without getting too judgey if we can avoid it."
   ]
  },
  {
   "cell_type": "code",
   "execution_count": 7,
   "metadata": {},
   "outputs": [
    {
     "name": "stdout",
     "output_type": "stream",
     "text": [
      "\n",
      "attempting to solve problem using \u001b[1mself-solve\u001b[0;0m algorithm\n",
      "\n",
      "decomposing input integers...\n",
      "\n",
      "checking if problem solved without need for chosen algorithm...\n",
      "\n",
      "partial solution = [971, 977, 373, 599, 313, 349, 541, 863]\n",
      "\n",
      "\tself-solve algorithm ran in 0.0010947000000669505\n",
      "\tsolution formed is of length 8\n",
      "\n",
      "------------------------------------------------------------------------\n",
      "\n",
      "attempting to solve problem using \u001b[1mrandom\u001b[0;0m algorithm\n",
      "\n",
      "decomposing input integers...\n",
      "\n",
      "checking if problem solved without need for chosen algorithm...\n",
      "\n",
      "\n",
      "---| Running Chaotic Random Minimum Prime Hitting Set Algorithm |---\n",
      "\n",
      "\tMinHitSet complete! solution = [2, 3, 5, 23, 313, 349, 373, 541, 599, 863, 971, 977]\n",
      "\n",
      "\trandom algorithm ran in 0.0011483000002954213\n",
      "\tsolution formed is of length 12\n",
      "\n",
      "------------------------------------------------------------------------\n",
      "\n",
      "attempting to solve problem using \u001b[1mexhaustive\u001b[0;0m algorithm\n",
      "\n",
      "decomposing input integers...\n",
      "\n",
      "checking if problem solved without need for chosen algorithm...\n",
      "\n",
      "\n",
      "---| Running Exhaustive Minimum Prime Hitting Set Algorithm |---\n",
      "\n",
      "\tMinHitSet complete! solution = [2, 3, 5, 313, 349, 373, 541, 599, 863, 971, 977]\n",
      "\n",
      "\texhaustive algorithm ran in 0.003913800000191259\n",
      "\tsolution formed is of length 11\n",
      "\n",
      "------------------------------------------------------------------------\n",
      "\n",
      "attempting to solve problem using \u001b[1mgreedy\u001b[0;0m algorithm\n",
      "\n",
      "decomposing input integers...\n",
      "\n",
      "checking if problem solved without need for chosen algorithm...\n",
      "\n",
      "\n",
      "---| Running Greedy Minimum Prime Hitting Set Heuristic |---\n",
      "\n",
      "\tMinHitSet complete! solution = [2, 3, 5, 313, 349, 373, 541, 599, 863, 971, 977]\n",
      "\n",
      "\tgreedy algorithm ran in 0.0010091000003740191\n",
      "\tsolution formed is of length 11\n",
      "\n",
      "------------------------------------------------------------------------\n",
      "\n",
      "attempting to solve problem using \u001b[1mstochastic\u001b[0;0m algorithm\n",
      "\n",
      "decomposing input integers...\n",
      "\n",
      "checking if problem solved without need for chosen algorithm...\n",
      "\n",
      "\n",
      "---| Running Stochastic Descent Minimum Prime Hitting Set Algorithm |---\n",
      "\n",
      "\tMinHitSet complete! solution = [2, 5, 7, 313, 349, 373, 541, 599, 863, 971, 977]\n",
      "\n",
      "\tstochastic algorithm ran in 0.033401600000161125\n",
      "\tsolution formed is of length 11\n",
      "\n",
      "------------------------------------------------------------------------\n",
      "\n",
      "attempting to solve problem using \u001b[1mmultiple-stochastic\u001b[0;0m algorithm\n",
      "\n",
      "decomposing input integers...\n",
      "\n",
      "checking if problem solved without need for chosen algorithm...\n",
      "\n",
      "\n",
      "---| Running Multiple Stochastic Descent Minimum Prime Hitting Set Algorithm |---\n",
      "\n",
      "\tMinHitSet complete! best solution = [2, 5, 7, 313, 349, 373, 541, 599, 863, 971, 977]\n",
      "\n",
      "\tmultiple-stochastic algorithm ran in 0.08004669999991165\n",
      "\tsolution formed is of length 11\n",
      "\n",
      "------------------------------------------------------------------------\n",
      "\n",
      "attempting to solve problem using \u001b[1mgenetic\u001b[0;0m algorithm\n",
      "\n",
      "decomposing input integers...\n",
      "\n",
      "checking if problem solved without need for chosen algorithm...\n",
      "\n",
      "\n",
      "---| Running Genetic Minimum Prime Hitting Set Algorithm |---\n",
      "\n"
     ]
    },
    {
     "ename": "ValueError",
     "evalue": "The number of weights does not match the population",
     "output_type": "error",
     "traceback": [
      "\u001b[1;31m---------------------------------------------------------------------------\u001b[0m",
      "\u001b[1;31mValueError\u001b[0m                                Traceback (most recent call last)",
      "\u001b[1;32m<ipython-input-7-efbef495566c>\u001b[0m in \u001b[0;36m<module>\u001b[1;34m\u001b[0m\n\u001b[0;32m      8\u001b[0m \u001b[1;33m\u001b[0m\u001b[0m\n\u001b[0;32m      9\u001b[0m     \u001b[0mstart\u001b[0m \u001b[1;33m=\u001b[0m \u001b[0mtimer\u001b[0m\u001b[1;33m(\u001b[0m\u001b[1;33m)\u001b[0m\u001b[1;33m\u001b[0m\u001b[1;33m\u001b[0m\u001b[0m\n\u001b[1;32m---> 10\u001b[1;33m     \u001b[0moutput_vals\u001b[0m \u001b[1;33m=\u001b[0m \u001b[0mminimum_prime_hitting_set\u001b[0m\u001b[1;33m(\u001b[0m\u001b[0minput_list\u001b[0m\u001b[1;33m,\u001b[0m \u001b[0malg\u001b[0m\u001b[1;33m)\u001b[0m\u001b[1;33m\u001b[0m\u001b[1;33m\u001b[0m\u001b[0m\n\u001b[0m\u001b[0;32m     11\u001b[0m     \u001b[0mend\u001b[0m \u001b[1;33m=\u001b[0m \u001b[0mtimer\u001b[0m\u001b[1;33m(\u001b[0m\u001b[1;33m)\u001b[0m\u001b[1;33m\u001b[0m\u001b[1;33m\u001b[0m\u001b[0m\n\u001b[0;32m     12\u001b[0m \u001b[1;33m\u001b[0m\u001b[0m\n",
      "\u001b[1;32m~\\minimum_prime_hit_set\\hit_set_algorithms.py\u001b[0m in \u001b[0;36mminimum_prime_hitting_set\u001b[1;34m(int_list, algorithm, text)\u001b[0m\n\u001b[0;32m    525\u001b[0m \u001b[1;33m\u001b[0m\u001b[0m\n\u001b[0;32m    526\u001b[0m     \u001b[1;32mif\u001b[0m \u001b[1;33m(\u001b[0m\u001b[0mtype\u001b[0m\u001b[1;33m(\u001b[0m\u001b[0mremaining\u001b[0m\u001b[1;33m[\u001b[0m\u001b[1;36m0\u001b[0m\u001b[1;33m]\u001b[0m\u001b[1;33m)\u001b[0m \u001b[1;33m!=\u001b[0m \u001b[0mlist\u001b[0m\u001b[1;33m)\u001b[0m \u001b[1;32mand\u001b[0m \u001b[1;33m(\u001b[0m\u001b[0malgorithm\u001b[0m \u001b[1;33m!=\u001b[0m \u001b[1;34m'self-solve'\u001b[0m\u001b[1;33m)\u001b[0m\u001b[1;33m:\u001b[0m\u001b[1;33m\u001b[0m\u001b[1;33m\u001b[0m\u001b[0m\n\u001b[1;32m--> 527\u001b[1;33m         \u001b[1;32mreturn\u001b[0m \u001b[0mremaining\u001b[0m\u001b[1;33m\u001b[0m\u001b[1;33m\u001b[0m\u001b[0m\n\u001b[0m\u001b[0;32m    528\u001b[0m     \u001b[1;32melse\u001b[0m\u001b[1;33m:\u001b[0m\u001b[1;33m\u001b[0m\u001b[1;33m\u001b[0m\u001b[0m\n\u001b[0;32m    529\u001b[0m         \u001b[1;32mtry\u001b[0m\u001b[1;33m:\u001b[0m\u001b[1;33m\u001b[0m\u001b[1;33m\u001b[0m\u001b[0m\n",
      "\u001b[1;32m~\\minimum_prime_hit_set\\hit_set_algorithms.py\u001b[0m in \u001b[0;36mgenetic_hitting_set\u001b[1;34m(remaining, sols, text)\u001b[0m\n\u001b[0;32m    434\u001b[0m \u001b[1;33m\u001b[0m\u001b[0m\n\u001b[0;32m    435\u001b[0m     \u001b[0mbest_sol\u001b[0m \u001b[1;33m=\u001b[0m \u001b[0mmin\u001b[0m\u001b[1;33m(\u001b[0m\u001b[0minitial_population\u001b[0m\u001b[1;33m,\u001b[0m \u001b[0mkey\u001b[0m\u001b[1;33m=\u001b[0m\u001b[0mlen\u001b[0m\u001b[1;33m)\u001b[0m  \u001b[1;31m# current best, to be iterated on\u001b[0m\u001b[1;33m\u001b[0m\u001b[1;33m\u001b[0m\u001b[0m\n\u001b[1;32m--> 436\u001b[1;33m     \u001b[0mchanged\u001b[0m \u001b[1;33m=\u001b[0m \u001b[1;36m0\u001b[0m\u001b[1;33m\u001b[0m\u001b[1;33m\u001b[0m\u001b[0m\n\u001b[0m\u001b[0;32m    437\u001b[0m \u001b[1;33m\u001b[0m\u001b[0m\n\u001b[0;32m    438\u001b[0m     \u001b[1;32mwhile\u001b[0m \u001b[0mchanged\u001b[0m \u001b[1;33m<\u001b[0m \u001b[1;36m3\u001b[0m\u001b[1;33m:\u001b[0m\u001b[1;33m\u001b[0m\u001b[1;33m\u001b[0m\u001b[0m\n",
      "\u001b[1;32m~\\minimum_prime_hit_set\\hit_set_algorithms.py\u001b[0m in \u001b[0;36mget_parents\u001b[1;34m(initial_population, number_of_breeding_pairs)\u001b[0m\n\u001b[0;32m    354\u001b[0m     \u001b[0mweights\u001b[0m \u001b[1;33m=\u001b[0m \u001b[1;33m[\u001b[0m\u001b[1;36m1\u001b[0m\u001b[1;33m,\u001b[0m \u001b[1;36m2\u001b[0m\u001b[1;33m,\u001b[0m \u001b[1;36m3\u001b[0m\u001b[1;33m]\u001b[0m \u001b[1;33m*\u001b[0m \u001b[1;33m(\u001b[0m\u001b[0mweight_widths\u001b[0m \u001b[1;33m+\u001b[0m \u001b[1;36m1\u001b[0m\u001b[1;33m)\u001b[0m\u001b[1;33m\u001b[0m\u001b[1;33m\u001b[0m\u001b[0m\n\u001b[0;32m    355\u001b[0m     \u001b[0mweights\u001b[0m \u001b[1;33m=\u001b[0m \u001b[0mweights\u001b[0m\u001b[1;33m[\u001b[0m\u001b[1;33m:\u001b[0m\u001b[0mlen\u001b[0m\u001b[1;33m(\u001b[0m\u001b[0minitial_population\u001b[0m\u001b[1;33m)\u001b[0m\u001b[1;33m]\u001b[0m\u001b[1;33m\u001b[0m\u001b[1;33m\u001b[0m\u001b[0m\n\u001b[1;32m--> 356\u001b[1;33m \u001b[1;33m\u001b[0m\u001b[0m\n\u001b[0m\u001b[0;32m    357\u001b[0m     \u001b[0mparents\u001b[0m \u001b[1;33m=\u001b[0m \u001b[0mrandom\u001b[0m\u001b[1;33m.\u001b[0m\u001b[0mchoices\u001b[0m\u001b[1;33m(\u001b[0m\u001b[0msorted\u001b[0m\u001b[1;33m(\u001b[0m\u001b[0minitial_population\u001b[0m\u001b[1;33m,\u001b[0m \u001b[0mkey\u001b[0m\u001b[1;33m=\u001b[0m\u001b[0mlen\u001b[0m\u001b[1;33m)\u001b[0m\u001b[1;33m,\u001b[0m \u001b[0mweights\u001b[0m\u001b[1;33m=\u001b[0m\u001b[0mweights\u001b[0m\u001b[1;33m,\u001b[0m \u001b[0mk\u001b[0m\u001b[1;33m=\u001b[0m\u001b[1;33m(\u001b[0m\u001b[1;36m2\u001b[0m\u001b[1;33m*\u001b[0m\u001b[0mnumber_of_breeding_pairs\u001b[0m\u001b[1;33m)\u001b[0m\u001b[1;33m)\u001b[0m\u001b[1;33m\u001b[0m\u001b[1;33m\u001b[0m\u001b[0m\n\u001b[0;32m    358\u001b[0m     \u001b[0mparents\u001b[0m \u001b[1;33m=\u001b[0m \u001b[1;33m[\u001b[0m\u001b[0mparents\u001b[0m\u001b[1;33m[\u001b[0m\u001b[1;33m:\u001b[0m\u001b[0mnumber_of_breeding_pairs\u001b[0m\u001b[1;33m]\u001b[0m\u001b[1;33m,\u001b[0m \u001b[0mparents\u001b[0m\u001b[1;33m[\u001b[0m\u001b[0mnumber_of_breeding_pairs\u001b[0m\u001b[1;33m:\u001b[0m\u001b[1;33m]\u001b[0m\u001b[1;33m]\u001b[0m\u001b[1;33m\u001b[0m\u001b[1;33m\u001b[0m\u001b[0m\n",
      "\u001b[1;32m~\\Anaconda3\\lib\\random.py\u001b[0m in \u001b[0;36mchoices\u001b[1;34m(self, population, weights, cum_weights, k)\u001b[0m\n\u001b[0;32m    359\u001b[0m             \u001b[1;32mraise\u001b[0m \u001b[0mTypeError\u001b[0m\u001b[1;33m(\u001b[0m\u001b[1;34m'Cannot specify both weights and cumulative weights'\u001b[0m\u001b[1;33m)\u001b[0m\u001b[1;33m\u001b[0m\u001b[1;33m\u001b[0m\u001b[0m\n\u001b[0;32m    360\u001b[0m         \u001b[1;32mif\u001b[0m \u001b[0mlen\u001b[0m\u001b[1;33m(\u001b[0m\u001b[0mcum_weights\u001b[0m\u001b[1;33m)\u001b[0m \u001b[1;33m!=\u001b[0m \u001b[0mlen\u001b[0m\u001b[1;33m(\u001b[0m\u001b[0mpopulation\u001b[0m\u001b[1;33m)\u001b[0m\u001b[1;33m:\u001b[0m\u001b[1;33m\u001b[0m\u001b[1;33m\u001b[0m\u001b[0m\n\u001b[1;32m--> 361\u001b[1;33m             \u001b[1;32mraise\u001b[0m \u001b[0mValueError\u001b[0m\u001b[1;33m(\u001b[0m\u001b[1;34m'The number of weights does not match the population'\u001b[0m\u001b[1;33m)\u001b[0m\u001b[1;33m\u001b[0m\u001b[1;33m\u001b[0m\u001b[0m\n\u001b[0m\u001b[0;32m    362\u001b[0m         \u001b[0mbisect\u001b[0m \u001b[1;33m=\u001b[0m \u001b[0m_bisect\u001b[0m\u001b[1;33m.\u001b[0m\u001b[0mbisect\u001b[0m\u001b[1;33m\u001b[0m\u001b[1;33m\u001b[0m\u001b[0m\n\u001b[0;32m    363\u001b[0m         \u001b[0mtotal\u001b[0m \u001b[1;33m=\u001b[0m \u001b[0mcum_weights\u001b[0m\u001b[1;33m[\u001b[0m\u001b[1;33m-\u001b[0m\u001b[1;36m1\u001b[0m\u001b[1;33m]\u001b[0m\u001b[1;33m\u001b[0m\u001b[1;33m\u001b[0m\u001b[0m\n",
      "\u001b[1;31mValueError\u001b[0m: The number of weights does not match the population"
     ]
    }
   ],
   "source": [
    "algs_to_run = ['self-solve', 'random', 'exhaustive', 'greedy', 'stochastic', 'multiple-stochastic', 'genetic']\n",
    "sols = {}\n",
    "\n",
    "for alg in algs_to_run:\n",
    "    print('\\nattempting to solve problem using \\033[1m{}\\033[0;0m algorithm'.format(alg))\n",
    "    \n",
    "    # the weird codes in the text make the alg name print bold to help me skim read. no idea what they actually mean tho :O\n",
    "    \n",
    "    start = timer()\n",
    "    output_vals = minimum_prime_hitting_set(input_list, alg)\n",
    "    end = timer()\n",
    "\n",
    "    print('\\n\\t{} algorithm ran in {}'.format(alg, str(end - start)))\n",
    "    print('\\tsolution formed is of length {}'.format(len(output_vals)))\n",
    "    \n",
    "    sols[alg] = output_vals\n",
    "    \n",
    "    print('\\n------------------------------------------------------------------------')"
   ]
  },
  {
   "cell_type": "markdown",
   "metadata": {},
   "source": [
    "a successful test! - worth noting that self-solve component of the runs already discovered 8 of the 11 integers contained in the solution so minimal actual use for each algorithm to solve. whilst its obviously dumb to start judging algorithm quality based on this one individual test I think the general assumptions i've had about each going in have been well exemplified by this (i.e. run time of multiple stochastic being longest by far, random and individual stochastic being least accurate)\n",
    "\n",
    "Also note that multiple stochastic has managed to find a solution which matches the quality of exhaustive but that includes different primes. "
   ]
  },
  {
   "cell_type": "code",
   "execution_count": null,
   "metadata": {},
   "outputs": [],
   "source": []
  }
 ],
 "metadata": {
  "kernelspec": {
   "display_name": "Python 3",
   "language": "python",
   "name": "python3"
  },
  "language_info": {
   "codemirror_mode": {
    "name": "ipython",
    "version": 3
   },
   "file_extension": ".py",
   "mimetype": "text/x-python",
   "name": "python",
   "nbconvert_exporter": "python",
   "pygments_lexer": "ipython3",
   "version": "3.7.7"
  },
  "toc": {
   "base_numbering": 1,
   "nav_menu": {
    "height": "303px",
    "width": "497px"
   },
   "number_sections": true,
   "sideBar": true,
   "skip_h1_title": false,
   "title_cell": "Table of Contents",
   "title_sidebar": "Contents",
   "toc_cell": false,
   "toc_position": {},
   "toc_section_display": true,
   "toc_window_display": false
  }
 },
 "nbformat": 4,
 "nbformat_minor": 4
}
